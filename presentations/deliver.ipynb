{
 "cells": [
  {
   "cell_type": "markdown",
   "metadata": {
    "slideshow": {
     "slide_type": "slide"
    }
   },
   "source": [
    "# Machine Learning with Python Workshop \n",
    "\n",
    "# [github.com/aymanibrahim/mlpy](https://github.com/aymanibrahim/mlpy)"
   ]
  },
  {
   "cell_type": "markdown",
   "metadata": {
    "slideshow": {
     "slide_type": "slide"
    }
   },
   "source": [
    "# Machine Learning with Python Workshop \n",
    "\n",
    "### Ayman Ibrahim\n",
    "[GitHub](https://github.com/aymanibrahim) [LinkedIn](https://www.linkedin.com/in/aymanibrahim/) [Kaggle](https://www.kaggle.com/aymani) [Twitter](https://twitter.com/AymanIbrahim) [Facebook](https://www.facebook.com/ayman.ibrahim.awad)"
   ]
  },
  {
   "cell_type": "markdown",
   "metadata": {
    "slideshow": {
     "slide_type": "slide"
    }
   },
   "source": [
    "# Why\n",
    "> For people who struggle to start in machine learning with Python"
   ]
  },
  {
   "cell_type": "markdown",
   "metadata": {
    "slideshow": {
     "slide_type": "slide"
    }
   },
   "source": [
    "# Description\n",
    "This hands-on in-person workshop is based on [Machine Learning with Python Course by IBM Cognitive Class](https://cognitiveclass.ai/courses/machine-learning-with-python/)\n",
    "\n",
    ">Learn how get started with supervised and unsupervised learning to uncover insights and predict future trends."
   ]
  },
  {
   "cell_type": "markdown",
   "metadata": {
    "slideshow": {
     "slide_type": "slide"
    }
   },
   "source": [
    "# Outline"
   ]
  },
  {
   "cell_type": "markdown",
   "metadata": {
    "heading_collapsed": true
   },
   "source": [
    "# [01 Intro](https://github.com/aymanibrahim/mlpy/blob/master/notebooks/01_Intro.ipynb)"
   ]
  },
  {
   "cell_type": "markdown",
   "metadata": {
    "hidden": true
   },
   "source": [
    "- Applications of Machine Learning\n",
    "- Python libraries for Machine Learning\n",
    "- Supervised vs Unsupervised Learning"
   ]
  },
  {
   "cell_type": "markdown",
   "metadata": {
    "heading_collapsed": true
   },
   "source": [
    "# [02 Regression](https://github.com/aymanibrahim/mlpy/blob/master/notebooks/02_Regression.ipynb)"
   ]
  },
  {
   "cell_type": "markdown",
   "metadata": {
    "hidden": true
   },
   "source": [
    "- Linear Regression\n",
    "- Non-linear Regression\n",
    "- Model evaluation methods"
   ]
  },
  {
   "cell_type": "markdown",
   "metadata": {
    "heading_collapsed": true
   },
   "source": [
    "# [03 Classification](https://github.com/aymanibrahim/mlpy/blob/master/notebooks/03_Classification.ipynb)"
   ]
  },
  {
   "cell_type": "markdown",
   "metadata": {
    "hidden": true
   },
   "source": [
    "- K-Nearest Neighbour\n",
    "- Decision Trees\n",
    "- Logistic Regression\n",
    "- Support Vector Machines"
   ]
  },
  {
   "cell_type": "markdown",
   "metadata": {
    "heading_collapsed": true
   },
   "source": [
    "# [04 Clustering](https://github.com/aymanibrahim/mlpy/blob/master/notebooks/04_Clustering.ipynb)"
   ]
  },
  {
   "cell_type": "markdown",
   "metadata": {
    "hidden": true
   },
   "source": [
    "- K-Means Clustering\n",
    "- Hierarchical Clustering\n",
    "- Density-Based Clustering"
   ]
  },
  {
   "cell_type": "markdown",
   "metadata": {
    "heading_collapsed": true
   },
   "source": [
    "# [05 Recommender Systems](https://github.com/aymanibrahim/mlpy/blob/master/notebooks/05_Recommender.ipynb)"
   ]
  },
  {
   "cell_type": "markdown",
   "metadata": {
    "hidden": true
   },
   "source": [
    "- Content-based recommender systems\n",
    "- Collaborative Filtering"
   ]
  },
  {
   "cell_type": "markdown",
   "metadata": {
    "slideshow": {
     "slide_type": "slide"
    }
   },
   "source": [
    "# Prerequisites\n",
    "- [Python for Data Science Workshop](https://github.com/aymanibrahim/pyds)\n",
    "- [Data Analysis with Python Workshop](https://github.com/aymanibrahim/dapy)"
   ]
  },
  {
   "cell_type": "markdown",
   "metadata": {
    "slideshow": {
     "slide_type": "slide"
    }
   },
   "source": [
    "# Pre-workshop\n",
    "You will need a laptop that can access the internet"
   ]
  },
  {
   "cell_type": "markdown",
   "metadata": {
    "slideshow": {
     "slide_type": "slide"
    }
   },
   "source": [
    "# 1: Installation\n",
    "[Install Python 3.7 using Miniconda](https://conda.io/projects/conda/en/latest/user-guide/install/index.html)\n",
    "\n",
    "OR [Install Python 3.7 using Ananconda](https://www.anaconda.com/distribution/)"
   ]
  },
  {
   "cell_type": "markdown",
   "metadata": {
    "slideshow": {
     "slide_type": "slide"
    }
   },
   "source": [
    "# 2: Setup\n",
    "### 2.1: Download workshop code & materials\n",
    "Clone the repository\n",
    "```\n",
    "git clone git@github.com:aymanibrahim/mlpy.git\n",
    "```\n",
    "OR [Download the repository as a .zip file](https://github.com/aymanibrahim/mlpy/archive/master.zip)"
   ]
  },
  {
   "cell_type": "markdown",
   "metadata": {
    "slideshow": {
     "slide_type": "slide"
    }
   },
   "source": [
    "### 2.2: Change directory to dapy\n",
    "Change current directory to **mlpy** directory\n",
    "```\n",
    "cd mlpy\n",
    "```"
   ]
  },
  {
   "cell_type": "markdown",
   "metadata": {
    "slideshow": {
     "slide_type": "slide"
    }
   },
   "source": [
    "### 2.3: Install Python with required packages\n",
    "Install Python 3.7 with the required packages into an environment named _mlpy_  as per [environment.yml](https://github.com/aymanibrahim/mlpy/blob/master/environment.yml) YAML file.\n",
    "```\n",
    "conda env create -f environment.yml\n",
    "```\n",
    "When conda asks if you want to proceed, type \"y\" and press Enter.\n"
   ]
  },
  {
   "cell_type": "markdown",
   "metadata": {
    "slideshow": {
     "slide_type": "slide"
    }
   },
   "source": [
    "## 3: Activate environment\n",
    "Change the current default environment (_base_) into _mlpy_ environment.\n",
    "```\n",
    "conda activate mlpy\n",
    "```"
   ]
  },
  {
   "cell_type": "markdown",
   "metadata": {
    "slideshow": {
     "slide_type": "slide"
    }
   },
   "source": [
    "## 4: Install & Enable ipywidgets extentions\n",
    "Install ipywidgets JupyterLab extension\n",
    "```\n",
    "jupyter labextension install @jupyter-widgets/jupyterlab-manager\n",
    "```\n",
    "\n",
    "Enable  widgetsnbextension\n",
    "```\n",
    "jupyter nbextension enable --py widgetsnbextension --sys-prefix\n",
    "```"
   ]
  },
  {
   "cell_type": "markdown",
   "metadata": {
    "slideshow": {
     "slide_type": "slide"
    }
   },
   "source": [
    "## 5: Check installation\n",
    "Use [check_environment.py](https://github.com/aymanibrahim/mlpy/blob/master/check_environment.py) script to make sure everything was installed correctly, open a terminal, and change its directory (cd) so that your working directory\n",
    "is the workshop directory _mlpy_ you cloned or downloaded. Then enter the following:\n",
    "```\n",
    "python check_environment.py\n",
    "```"
   ]
  },
  {
   "cell_type": "markdown",
   "metadata": {
    "slideshow": {
     "slide_type": "slide"
    }
   },
   "source": [
    "If everything is OK, you will get the following message:\n",
    "> Your workshop environment is set up"
   ]
  },
  {
   "cell_type": "markdown",
   "metadata": {
    "slideshow": {
     "slide_type": "slide"
    }
   },
   "source": [
    "## 6: Start JupyterLab\n",
    "Start JupyterLab using:\n",
    "```\n",
    "jupyter lab\n",
    "```\n",
    "JupyterLab will open automatically in your browser.\n",
    "\n",
    "You may access JupyterLab by entering the notebook server’s URL into the browser.\n"
   ]
  },
  {
   "cell_type": "markdown",
   "metadata": {
    "slideshow": {
     "slide_type": "slide"
    }
   },
   "source": [
    "## 7: Stop JupyterLab\n",
    "Press **CTRL + C** in the terminal to stop JupyterLab."
   ]
  },
  {
   "cell_type": "markdown",
   "metadata": {
    "slideshow": {
     "slide_type": "slide"
    }
   },
   "source": [
    "## 8: Deactivate environment\n",
    "Change the current environment (_mlpy_) into the previous environment.\n",
    "```\n",
    "conda deactivate\n",
    "```"
   ]
  },
  {
   "cell_type": "code",
   "execution_count": null,
   "metadata": {},
   "outputs": [],
   "source": []
  }
 ],
 "metadata": {
  "celltoolbar": "Slideshow",
  "kernelspec": {
   "display_name": "Python 3",
   "language": "python",
   "name": "python3"
  },
  "language_info": {
   "codemirror_mode": {
    "name": "ipython",
    "version": 3
   },
   "file_extension": ".py",
   "mimetype": "text/x-python",
   "name": "python",
   "nbconvert_exporter": "python",
   "pygments_lexer": "ipython3",
   "version": "3.8.8"
  }
 },
 "nbformat": 4,
 "nbformat_minor": 4
}
